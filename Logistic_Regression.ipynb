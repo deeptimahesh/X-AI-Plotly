{
 "cells": [
  {
   "cell_type": "code",
   "execution_count": 1,
   "metadata": {},
   "outputs": [],
   "source": [
    "import pandas as pd\n",
    "import numpy as np\n",
    "from sklearn.linear_model import LogisticRegression\n",
    "from sklearn.model_selection import train_test_split\n"
   ]
  },
  {
   "cell_type": "code",
   "execution_count": 2,
   "metadata": {},
   "outputs": [
    {
     "data": {
      "text/html": [
       "<div>\n",
       "<style scoped>\n",
       "    .dataframe tbody tr th:only-of-type {\n",
       "        vertical-align: middle;\n",
       "    }\n",
       "\n",
       "    .dataframe tbody tr th {\n",
       "        vertical-align: top;\n",
       "    }\n",
       "\n",
       "    .dataframe thead th {\n",
       "        text-align: right;\n",
       "    }\n",
       "</style>\n",
       "<table border=\"1\" class=\"dataframe\">\n",
       "  <thead>\n",
       "    <tr style=\"text-align: right;\">\n",
       "      <th></th>\n",
       "      <th>id_student</th>\n",
       "      <th>code_module</th>\n",
       "      <th>code_presentation</th>\n",
       "      <th>gender</th>\n",
       "      <th>region</th>\n",
       "      <th>highest_education</th>\n",
       "      <th>imd_band</th>\n",
       "      <th>age_band</th>\n",
       "      <th>num_of_prev_attempts</th>\n",
       "      <th>studied_credits</th>\n",
       "      <th>...</th>\n",
       "      <th>quiz</th>\n",
       "      <th>repeatactivity</th>\n",
       "      <th>resource</th>\n",
       "      <th>sharedsubpage</th>\n",
       "      <th>subpage</th>\n",
       "      <th>url</th>\n",
       "      <th>sum_click</th>\n",
       "      <th>days_interacted</th>\n",
       "      <th>daily_click</th>\n",
       "      <th>final_result</th>\n",
       "    </tr>\n",
       "  </thead>\n",
       "  <tbody>\n",
       "    <tr>\n",
       "      <th>0</th>\n",
       "      <td>11391</td>\n",
       "      <td>AAA</td>\n",
       "      <td>2013J</td>\n",
       "      <td>M</td>\n",
       "      <td>East Anglian Region</td>\n",
       "      <td>HE Qualification</td>\n",
       "      <td>10.0</td>\n",
       "      <td>55&lt;=</td>\n",
       "      <td>0</td>\n",
       "      <td>240</td>\n",
       "      <td>...</td>\n",
       "      <td>0.0</td>\n",
       "      <td>0.0</td>\n",
       "      <td>13.0</td>\n",
       "      <td>0.0</td>\n",
       "      <td>32.0</td>\n",
       "      <td>5.0</td>\n",
       "      <td>934</td>\n",
       "      <td>40</td>\n",
       "      <td>23.350000</td>\n",
       "      <td>Pass</td>\n",
       "    </tr>\n",
       "    <tr>\n",
       "      <th>1</th>\n",
       "      <td>28400</td>\n",
       "      <td>AAA</td>\n",
       "      <td>2013J</td>\n",
       "      <td>F</td>\n",
       "      <td>Scotland</td>\n",
       "      <td>HE Qualification</td>\n",
       "      <td>3.0</td>\n",
       "      <td>35-55</td>\n",
       "      <td>0</td>\n",
       "      <td>60</td>\n",
       "      <td>...</td>\n",
       "      <td>0.0</td>\n",
       "      <td>0.0</td>\n",
       "      <td>12.0</td>\n",
       "      <td>0.0</td>\n",
       "      <td>87.0</td>\n",
       "      <td>48.0</td>\n",
       "      <td>1435</td>\n",
       "      <td>80</td>\n",
       "      <td>17.937500</td>\n",
       "      <td>Pass</td>\n",
       "    </tr>\n",
       "    <tr>\n",
       "      <th>2</th>\n",
       "      <td>31604</td>\n",
       "      <td>AAA</td>\n",
       "      <td>2013J</td>\n",
       "      <td>F</td>\n",
       "      <td>South East Region</td>\n",
       "      <td>A Level or Equivalent</td>\n",
       "      <td>6.0</td>\n",
       "      <td>35-55</td>\n",
       "      <td>0</td>\n",
       "      <td>60</td>\n",
       "      <td>...</td>\n",
       "      <td>0.0</td>\n",
       "      <td>0.0</td>\n",
       "      <td>19.0</td>\n",
       "      <td>0.0</td>\n",
       "      <td>144.0</td>\n",
       "      <td>90.0</td>\n",
       "      <td>2158</td>\n",
       "      <td>123</td>\n",
       "      <td>17.544715</td>\n",
       "      <td>Pass</td>\n",
       "    </tr>\n",
       "    <tr>\n",
       "      <th>3</th>\n",
       "      <td>32885</td>\n",
       "      <td>AAA</td>\n",
       "      <td>2013J</td>\n",
       "      <td>F</td>\n",
       "      <td>West Midlands Region</td>\n",
       "      <td>Lower Than A Level</td>\n",
       "      <td>6.0</td>\n",
       "      <td>0-35</td>\n",
       "      <td>0</td>\n",
       "      <td>60</td>\n",
       "      <td>...</td>\n",
       "      <td>0.0</td>\n",
       "      <td>0.0</td>\n",
       "      <td>45.0</td>\n",
       "      <td>0.0</td>\n",
       "      <td>79.0</td>\n",
       "      <td>14.0</td>\n",
       "      <td>1034</td>\n",
       "      <td>70</td>\n",
       "      <td>14.771429</td>\n",
       "      <td>Pass</td>\n",
       "    </tr>\n",
       "    <tr>\n",
       "      <th>4</th>\n",
       "      <td>38053</td>\n",
       "      <td>AAA</td>\n",
       "      <td>2013J</td>\n",
       "      <td>M</td>\n",
       "      <td>Wales</td>\n",
       "      <td>A Level or Equivalent</td>\n",
       "      <td>9.0</td>\n",
       "      <td>35-55</td>\n",
       "      <td>0</td>\n",
       "      <td>60</td>\n",
       "      <td>...</td>\n",
       "      <td>0.0</td>\n",
       "      <td>0.0</td>\n",
       "      <td>11.0</td>\n",
       "      <td>0.0</td>\n",
       "      <td>91.0</td>\n",
       "      <td>45.0</td>\n",
       "      <td>2445</td>\n",
       "      <td>143</td>\n",
       "      <td>17.097902</td>\n",
       "      <td>Pass</td>\n",
       "    </tr>\n",
       "  </tbody>\n",
       "</table>\n",
       "<p>5 rows × 44 columns</p>\n",
       "</div>"
      ],
      "text/plain": [
       "   id_student code_module code_presentation gender                region  \\\n",
       "0       11391         AAA             2013J      M   East Anglian Region   \n",
       "1       28400         AAA             2013J      F              Scotland   \n",
       "2       31604         AAA             2013J      F     South East Region   \n",
       "3       32885         AAA             2013J      F  West Midlands Region   \n",
       "4       38053         AAA             2013J      M                 Wales   \n",
       "\n",
       "       highest_education  imd_band age_band  num_of_prev_attempts  \\\n",
       "0       HE Qualification      10.0     55<=                     0   \n",
       "1       HE Qualification       3.0    35-55                     0   \n",
       "2  A Level or Equivalent       6.0    35-55                     0   \n",
       "3     Lower Than A Level       6.0     0-35                     0   \n",
       "4  A Level or Equivalent       9.0    35-55                     0   \n",
       "\n",
       "   studied_credits  ... quiz  repeatactivity  resource  sharedsubpage  \\\n",
       "0              240  ...  0.0             0.0      13.0            0.0   \n",
       "1               60  ...  0.0             0.0      12.0            0.0   \n",
       "2               60  ...  0.0             0.0      19.0            0.0   \n",
       "3               60  ...  0.0             0.0      45.0            0.0   \n",
       "4               60  ...  0.0             0.0      11.0            0.0   \n",
       "\n",
       "   subpage   url  sum_click  days_interacted  daily_click final_result  \n",
       "0     32.0   5.0        934               40    23.350000         Pass  \n",
       "1     87.0  48.0       1435               80    17.937500         Pass  \n",
       "2    144.0  90.0       2158              123    17.544715         Pass  \n",
       "3     79.0  14.0       1034               70    14.771429         Pass  \n",
       "4     91.0  45.0       2445              143    17.097902         Pass  \n",
       "\n",
       "[5 rows x 44 columns]"
      ]
     },
     "execution_count": 2,
     "metadata": {},
     "output_type": "execute_result"
    }
   ],
   "source": [
    "df = pd.read_csv(\"Open_Univ_Data_Final_merged.csv\")\n",
    "df.head()"
   ]
  },
  {
   "cell_type": "code",
   "execution_count": 3,
   "metadata": {},
   "outputs": [
    {
     "data": {
      "text/plain": [
       "Pass           12356\n",
       "Fail            5740\n",
       "Withdrawn       4673\n",
       "Distinction     3024\n",
       "Name: final_result, dtype: int64"
      ]
     },
     "execution_count": 3,
     "metadata": {},
     "output_type": "execute_result"
    }
   ],
   "source": [
    "df['final_result'].value_counts()"
   ]
  },
  {
   "cell_type": "code",
   "execution_count": 4,
   "metadata": {},
   "outputs": [],
   "source": [
    "df.drop(df[df.final_result == 'Withdrawn'].index, inplace=True)"
   ]
  },
  {
   "cell_type": "code",
   "execution_count": 5,
   "metadata": {},
   "outputs": [
    {
     "data": {
      "text/plain": [
       "Pass           12356\n",
       "Fail            5740\n",
       "Distinction     3024\n",
       "Name: final_result, dtype: int64"
      ]
     },
     "execution_count": 5,
     "metadata": {},
     "output_type": "execute_result"
    }
   ],
   "source": [
    "df['final_result'].value_counts()"
   ]
  },
  {
   "cell_type": "code",
   "execution_count": 6,
   "metadata": {},
   "outputs": [
    {
     "data": {
      "text/plain": [
       "Pass    15380\n",
       "Fail     5740\n",
       "Name: final_result, dtype: int64"
      ]
     },
     "execution_count": 6,
     "metadata": {},
     "output_type": "execute_result"
    }
   ],
   "source": [
    "df = df.replace(to_replace =\"Distinction\", value =\"Pass\")\n",
    "df['final_result'].value_counts()"
   ]
  },
  {
   "cell_type": "code",
   "execution_count": 7,
   "metadata": {},
   "outputs": [
    {
     "data": {
      "text/plain": [
       "4.0     2287\n",
       "3.0     2147\n",
       "6.0     2112\n",
       "2.0     2100\n",
       "5.0     2077\n",
       "8.0     1990\n",
       "7.0     1946\n",
       "9.0     1905\n",
       "1.0     1888\n",
       "10.0    1810\n",
       "Name: imd_band, dtype: int64"
      ]
     },
     "execution_count": 7,
     "metadata": {},
     "output_type": "execute_result"
    }
   ],
   "source": [
    "df['imd_band'].value_counts()"
   ]
  },
  {
   "cell_type": "code",
   "execution_count": 8,
   "metadata": {},
   "outputs": [
    {
     "name": "stdout",
     "output_type": "stream",
     "text": [
      "<class 'pandas.core.frame.DataFrame'>\n",
      "Int64Index: 21120 entries, 0 to 25792\n",
      "Data columns (total 44 columns):\n",
      "id_student               21120 non-null int64\n",
      "code_module              21120 non-null object\n",
      "code_presentation        21120 non-null object\n",
      "gender                   21120 non-null object\n",
      "region                   21120 non-null object\n",
      "highest_education        21120 non-null object\n",
      "imd_band                 20262 non-null float64\n",
      "age_band                 21120 non-null object\n",
      "num_of_prev_attempts     21120 non-null int64\n",
      "studied_credits          21120 non-null int64\n",
      "disability               21120 non-null object\n",
      "date_registration        21120 non-null float64\n",
      "date_unregistration      2 non-null float64\n",
      "date_registration_pos    21120 non-null float64\n",
      "registration_before      0 non-null float64\n",
      "mean_score               21117 non-null float64\n",
      "CMA_score                12862 non-null float64\n",
      "TMA_score                20611 non-null float64\n",
      "Exam_score               4957 non-null float64\n",
      "unique                   21120 non-null object\n",
      "dataplus                 21120 non-null float64\n",
      "dualpane                 21120 non-null float64\n",
      "externalquiz             21120 non-null float64\n",
      "folder                   21120 non-null float64\n",
      "forumng                  21120 non-null float64\n",
      "glossary                 21120 non-null float64\n",
      "homepage                 21120 non-null float64\n",
      "htmlactivity             21120 non-null float64\n",
      "oucollaborate            21120 non-null float64\n",
      "oucontent                21120 non-null float64\n",
      "ouelluminate             21120 non-null float64\n",
      "ouwiki                   21120 non-null float64\n",
      "page                     21120 non-null float64\n",
      "questionnaire            21120 non-null float64\n",
      "quiz                     21120 non-null float64\n",
      "repeatactivity           21120 non-null float64\n",
      "resource                 21120 non-null float64\n",
      "sharedsubpage            21120 non-null float64\n",
      "subpage                  21120 non-null float64\n",
      "url                      21120 non-null float64\n",
      "sum_click                21120 non-null int64\n",
      "days_interacted          21120 non-null int64\n",
      "daily_click              21120 non-null float64\n",
      "final_result             21120 non-null object\n",
      "dtypes: float64(30), int64(5), object(9)\n",
      "memory usage: 7.3+ MB\n"
     ]
    }
   ],
   "source": [
    "df.info()"
   ]
  },
  {
   "cell_type": "code",
   "execution_count": 9,
   "metadata": {},
   "outputs": [
    {
     "data": {
      "text/plain": [
       "id_student                   0\n",
       "code_module                  0\n",
       "code_presentation            0\n",
       "gender                       0\n",
       "region                       0\n",
       "highest_education            0\n",
       "imd_band                   858\n",
       "age_band                     0\n",
       "num_of_prev_attempts         0\n",
       "studied_credits              0\n",
       "disability                   0\n",
       "date_registration            0\n",
       "date_unregistration      21118\n",
       "date_registration_pos        0\n",
       "registration_before      21120\n",
       "mean_score                   3\n",
       "CMA_score                 8258\n",
       "TMA_score                  509\n",
       "Exam_score               16163\n",
       "unique                       0\n",
       "dataplus                     0\n",
       "dualpane                     0\n",
       "externalquiz                 0\n",
       "folder                       0\n",
       "forumng                      0\n",
       "glossary                     0\n",
       "homepage                     0\n",
       "htmlactivity                 0\n",
       "oucollaborate                0\n",
       "oucontent                    0\n",
       "ouelluminate                 0\n",
       "ouwiki                       0\n",
       "page                         0\n",
       "questionnaire                0\n",
       "quiz                         0\n",
       "repeatactivity               0\n",
       "resource                     0\n",
       "sharedsubpage                0\n",
       "subpage                      0\n",
       "url                          0\n",
       "sum_click                    0\n",
       "days_interacted              0\n",
       "daily_click                  0\n",
       "final_result                 0\n",
       "dtype: int64"
      ]
     },
     "execution_count": 9,
     "metadata": {},
     "output_type": "execute_result"
    }
   ],
   "source": [
    "df.isnull().sum()"
   ]
  },
  {
   "cell_type": "code",
   "execution_count": 10,
   "metadata": {},
   "outputs": [
    {
     "data": {
      "text/plain": [
       "code_module              0\n",
       "code_presentation        0\n",
       "gender                   0\n",
       "region                   0\n",
       "highest_education        0\n",
       "imd_band                 0\n",
       "age_band                 0\n",
       "num_of_prev_attempts     0\n",
       "studied_credits          0\n",
       "disability               0\n",
       "date_registration        0\n",
       "date_registration_pos    0\n",
       "dataplus                 0\n",
       "dualpane                 0\n",
       "externalquiz             0\n",
       "folder                   0\n",
       "forumng                  0\n",
       "glossary                 0\n",
       "homepage                 0\n",
       "htmlactivity             0\n",
       "oucollaborate            0\n",
       "oucontent                0\n",
       "ouelluminate             0\n",
       "ouwiki                   0\n",
       "page                     0\n",
       "questionnaire            0\n",
       "quiz                     0\n",
       "repeatactivity           0\n",
       "resource                 0\n",
       "sharedsubpage            0\n",
       "subpage                  0\n",
       "url                      0\n",
       "sum_click                0\n",
       "days_interacted          0\n",
       "daily_click              0\n",
       "final_result             0\n",
       "dtype: int64"
      ]
     },
     "execution_count": 10,
     "metadata": {},
     "output_type": "execute_result"
    }
   ],
   "source": [
    "df.drop(columns=['id_student','date_unregistration', 'Exam_score','TMA_score','CMA_score','mean_score','registration_before','unique' ], inplace=True)\n",
    "df = df.dropna()\n",
    "df.isnull().sum()"
   ]
  },
  {
   "cell_type": "code",
   "execution_count": 11,
   "metadata": {},
   "outputs": [
    {
     "data": {
      "text/plain": [
       "'final_result'"
      ]
     },
     "execution_count": 11,
     "metadata": {},
     "output_type": "execute_result"
    }
   ],
   "source": [
    "train_cols = df.columns[0:-1]\n",
    "train_cols \n",
    "label = df.columns[-1]\n",
    "label"
   ]
  },
  {
   "cell_type": "code",
   "execution_count": 12,
   "metadata": {},
   "outputs": [],
   "source": [
    "X = df[train_cols]\n",
    "y = df[label].apply(lambda x: 1 if x == \"Pass\" else 0) #Turning response into 0 and 1\n"
   ]
  },
  {
   "cell_type": "code",
   "execution_count": 13,
   "metadata": {},
   "outputs": [],
   "source": [
    "seed = 1\n",
    "X_train, X_test, y_train, y_test = train_test_split(X, y, test_size=0.20, random_state=seed)\n"
   ]
  },
  {
   "cell_type": "code",
   "execution_count": 14,
   "metadata": {},
   "outputs": [],
   "source": [
    "X_enc = pd.get_dummies(X, prefix_sep='.')\n",
    "feature_names = list(X_enc.columns)\n",
    "X_train_enc, X_test_enc, y_train, y_test = train_test_split(X_enc, y, test_size=0.20, random_state=seed)"
   ]
  },
  {
   "cell_type": "code",
   "execution_count": 15,
   "metadata": {},
   "outputs": [
    {
     "data": {
      "text/html": [
       "<div>\n",
       "<style scoped>\n",
       "    .dataframe tbody tr th:only-of-type {\n",
       "        vertical-align: middle;\n",
       "    }\n",
       "\n",
       "    .dataframe tbody tr th {\n",
       "        vertical-align: top;\n",
       "    }\n",
       "\n",
       "    .dataframe thead th {\n",
       "        text-align: right;\n",
       "    }\n",
       "</style>\n",
       "<table border=\"1\" class=\"dataframe\">\n",
       "  <thead>\n",
       "    <tr style=\"text-align: right;\">\n",
       "      <th></th>\n",
       "      <th>imd_band</th>\n",
       "      <th>num_of_prev_attempts</th>\n",
       "      <th>studied_credits</th>\n",
       "      <th>date_registration</th>\n",
       "      <th>date_registration_pos</th>\n",
       "      <th>dataplus</th>\n",
       "      <th>dualpane</th>\n",
       "      <th>externalquiz</th>\n",
       "      <th>folder</th>\n",
       "      <th>forumng</th>\n",
       "      <th>...</th>\n",
       "      <th>highest_education.A Level or Equivalent</th>\n",
       "      <th>highest_education.HE Qualification</th>\n",
       "      <th>highest_education.Lower Than A Level</th>\n",
       "      <th>highest_education.No Formal quals</th>\n",
       "      <th>highest_education.Post Graduate Qualification</th>\n",
       "      <th>age_band.0-35</th>\n",
       "      <th>age_band.35-55</th>\n",
       "      <th>age_band.55&lt;=</th>\n",
       "      <th>disability.N</th>\n",
       "      <th>disability.Y</th>\n",
       "    </tr>\n",
       "  </thead>\n",
       "  <tbody>\n",
       "    <tr>\n",
       "      <th>25347</th>\n",
       "      <td>3.0</td>\n",
       "      <td>0</td>\n",
       "      <td>30</td>\n",
       "      <td>-114.0</td>\n",
       "      <td>114.0</td>\n",
       "      <td>0.0</td>\n",
       "      <td>0.0</td>\n",
       "      <td>0.0</td>\n",
       "      <td>0.0</td>\n",
       "      <td>38.0</td>\n",
       "      <td>...</td>\n",
       "      <td>1</td>\n",
       "      <td>0</td>\n",
       "      <td>0</td>\n",
       "      <td>0</td>\n",
       "      <td>0</td>\n",
       "      <td>1</td>\n",
       "      <td>0</td>\n",
       "      <td>0</td>\n",
       "      <td>1</td>\n",
       "      <td>0</td>\n",
       "    </tr>\n",
       "    <tr>\n",
       "      <th>25071</th>\n",
       "      <td>2.0</td>\n",
       "      <td>0</td>\n",
       "      <td>30</td>\n",
       "      <td>-15.0</td>\n",
       "      <td>15.0</td>\n",
       "      <td>0.0</td>\n",
       "      <td>0.0</td>\n",
       "      <td>0.0</td>\n",
       "      <td>0.0</td>\n",
       "      <td>0.0</td>\n",
       "      <td>...</td>\n",
       "      <td>0</td>\n",
       "      <td>0</td>\n",
       "      <td>1</td>\n",
       "      <td>0</td>\n",
       "      <td>0</td>\n",
       "      <td>1</td>\n",
       "      <td>0</td>\n",
       "      <td>0</td>\n",
       "      <td>1</td>\n",
       "      <td>0</td>\n",
       "    </tr>\n",
       "    <tr>\n",
       "      <th>4855</th>\n",
       "      <td>4.0</td>\n",
       "      <td>0</td>\n",
       "      <td>60</td>\n",
       "      <td>-22.0</td>\n",
       "      <td>22.0</td>\n",
       "      <td>0.0</td>\n",
       "      <td>0.0</td>\n",
       "      <td>0.0</td>\n",
       "      <td>0.0</td>\n",
       "      <td>1524.0</td>\n",
       "      <td>...</td>\n",
       "      <td>1</td>\n",
       "      <td>0</td>\n",
       "      <td>0</td>\n",
       "      <td>0</td>\n",
       "      <td>0</td>\n",
       "      <td>0</td>\n",
       "      <td>1</td>\n",
       "      <td>0</td>\n",
       "      <td>1</td>\n",
       "      <td>0</td>\n",
       "    </tr>\n",
       "    <tr>\n",
       "      <th>455</th>\n",
       "      <td>8.0</td>\n",
       "      <td>0</td>\n",
       "      <td>60</td>\n",
       "      <td>-20.0</td>\n",
       "      <td>20.0</td>\n",
       "      <td>0.0</td>\n",
       "      <td>0.0</td>\n",
       "      <td>0.0</td>\n",
       "      <td>0.0</td>\n",
       "      <td>34.0</td>\n",
       "      <td>...</td>\n",
       "      <td>1</td>\n",
       "      <td>0</td>\n",
       "      <td>0</td>\n",
       "      <td>0</td>\n",
       "      <td>0</td>\n",
       "      <td>0</td>\n",
       "      <td>1</td>\n",
       "      <td>0</td>\n",
       "      <td>1</td>\n",
       "      <td>0</td>\n",
       "    </tr>\n",
       "    <tr>\n",
       "      <th>5188</th>\n",
       "      <td>7.0</td>\n",
       "      <td>2</td>\n",
       "      <td>60</td>\n",
       "      <td>-141.0</td>\n",
       "      <td>141.0</td>\n",
       "      <td>0.0</td>\n",
       "      <td>0.0</td>\n",
       "      <td>0.0</td>\n",
       "      <td>0.0</td>\n",
       "      <td>54.0</td>\n",
       "      <td>...</td>\n",
       "      <td>0</td>\n",
       "      <td>0</td>\n",
       "      <td>1</td>\n",
       "      <td>0</td>\n",
       "      <td>0</td>\n",
       "      <td>1</td>\n",
       "      <td>0</td>\n",
       "      <td>0</td>\n",
       "      <td>1</td>\n",
       "      <td>0</td>\n",
       "    </tr>\n",
       "  </tbody>\n",
       "</table>\n",
       "<p>5 rows × 64 columns</p>\n",
       "</div>"
      ],
      "text/plain": [
       "       imd_band  num_of_prev_attempts  studied_credits  date_registration  \\\n",
       "25347       3.0                     0               30             -114.0   \n",
       "25071       2.0                     0               30              -15.0   \n",
       "4855        4.0                     0               60              -22.0   \n",
       "455         8.0                     0               60              -20.0   \n",
       "5188        7.0                     2               60             -141.0   \n",
       "\n",
       "       date_registration_pos  dataplus  dualpane  externalquiz  folder  \\\n",
       "25347                  114.0       0.0       0.0           0.0     0.0   \n",
       "25071                   15.0       0.0       0.0           0.0     0.0   \n",
       "4855                    22.0       0.0       0.0           0.0     0.0   \n",
       "455                     20.0       0.0       0.0           0.0     0.0   \n",
       "5188                   141.0       0.0       0.0           0.0     0.0   \n",
       "\n",
       "       forumng  ...  highest_education.A Level or Equivalent  \\\n",
       "25347     38.0  ...                                        1   \n",
       "25071      0.0  ...                                        0   \n",
       "4855    1524.0  ...                                        1   \n",
       "455       34.0  ...                                        1   \n",
       "5188      54.0  ...                                        0   \n",
       "\n",
       "       highest_education.HE Qualification  \\\n",
       "25347                                   0   \n",
       "25071                                   0   \n",
       "4855                                    0   \n",
       "455                                     0   \n",
       "5188                                    0   \n",
       "\n",
       "       highest_education.Lower Than A Level  \\\n",
       "25347                                     0   \n",
       "25071                                     1   \n",
       "4855                                      0   \n",
       "455                                       0   \n",
       "5188                                      1   \n",
       "\n",
       "       highest_education.No Formal quals  \\\n",
       "25347                                  0   \n",
       "25071                                  0   \n",
       "4855                                   0   \n",
       "455                                    0   \n",
       "5188                                   0   \n",
       "\n",
       "       highest_education.Post Graduate Qualification  age_band.0-35  \\\n",
       "25347                                              0              1   \n",
       "25071                                              0              1   \n",
       "4855                                               0              0   \n",
       "455                                                0              0   \n",
       "5188                                               0              1   \n",
       "\n",
       "       age_band.35-55  age_band.55<=  disability.N  disability.Y  \n",
       "25347               0              0             1             0  \n",
       "25071               0              0             1             0  \n",
       "4855                1              0             1             0  \n",
       "455                 1              0             1             0  \n",
       "5188                0              0             1             0  \n",
       "\n",
       "[5 rows x 64 columns]"
      ]
     },
     "execution_count": 15,
     "metadata": {},
     "output_type": "execute_result"
    }
   ],
   "source": [
    "X_train_enc.head()"
   ]
  },
  {
   "cell_type": "code",
   "execution_count": 16,
   "metadata": {},
   "outputs": [
    {
     "data": {
      "text/plain": [
       "['imd_band',\n",
       " 'num_of_prev_attempts',\n",
       " 'studied_credits',\n",
       " 'date_registration',\n",
       " 'date_registration_pos',\n",
       " 'dataplus',\n",
       " 'dualpane',\n",
       " 'externalquiz',\n",
       " 'folder',\n",
       " 'forumng',\n",
       " 'glossary',\n",
       " 'homepage',\n",
       " 'htmlactivity',\n",
       " 'oucollaborate',\n",
       " 'oucontent',\n",
       " 'ouelluminate',\n",
       " 'ouwiki',\n",
       " 'page',\n",
       " 'questionnaire',\n",
       " 'quiz',\n",
       " 'repeatactivity',\n",
       " 'resource',\n",
       " 'sharedsubpage',\n",
       " 'subpage',\n",
       " 'url',\n",
       " 'sum_click',\n",
       " 'days_interacted',\n",
       " 'daily_click',\n",
       " 'code_module.AAA',\n",
       " 'code_module.BBB',\n",
       " 'code_module.CCC',\n",
       " 'code_module.DDD',\n",
       " 'code_module.EEE',\n",
       " 'code_module.FFF',\n",
       " 'code_module.GGG',\n",
       " 'code_presentation.2013B',\n",
       " 'code_presentation.2013J',\n",
       " 'code_presentation.2014B',\n",
       " 'code_presentation.2014J',\n",
       " 'gender.F',\n",
       " 'gender.M',\n",
       " 'region.East Anglian Region',\n",
       " 'region.East Midlands Region',\n",
       " 'region.Ireland',\n",
       " 'region.London Region',\n",
       " 'region.North Region',\n",
       " 'region.North Western Region',\n",
       " 'region.Scotland',\n",
       " 'region.South East Region',\n",
       " 'region.South Region',\n",
       " 'region.South West Region',\n",
       " 'region.Wales',\n",
       " 'region.West Midlands Region',\n",
       " 'region.Yorkshire Region',\n",
       " 'highest_education.A Level or Equivalent',\n",
       " 'highest_education.HE Qualification',\n",
       " 'highest_education.Lower Than A Level',\n",
       " 'highest_education.No Formal quals',\n",
       " 'highest_education.Post Graduate Qualification',\n",
       " 'age_band.0-35',\n",
       " 'age_band.35-55',\n",
       " 'age_band.55<=',\n",
       " 'disability.N',\n",
       " 'disability.Y']"
      ]
     },
     "execution_count": 16,
     "metadata": {},
     "output_type": "execute_result"
    }
   ],
   "source": [
    "feature_names"
   ]
  },
  {
   "cell_type": "code",
   "execution_count": 17,
   "metadata": {},
   "outputs": [],
   "source": [
    "from sklearn.preprocessing import StandardScaler\n",
    "\n",
    "sc = StandardScaler()\n",
    "sc.fit(X_train_enc)\n",
    "X_train_std = sc.transform(X_train_enc)\n",
    "X_test_std = sc.transform(X_test_enc)"
   ]
  },
  {
   "cell_type": "code",
   "execution_count": 18,
   "metadata": {},
   "outputs": [],
   "source": [
    "from sklearn.linear_model import LogisticRegression\n",
    "LR =LogisticRegression()\n"
   ]
  },
  {
   "cell_type": "code",
   "execution_count": 19,
   "metadata": {},
   "outputs": [
    {
     "name": "stderr",
     "output_type": "stream",
     "text": [
      "/home/deepti/anaconda3/lib/python3.6/site-packages/sklearn/linear_model/logistic.py:432: FutureWarning: Default solver will be changed to 'lbfgs' in 0.22. Specify a solver to silence this warning.\n",
      "  FutureWarning)\n"
     ]
    },
    {
     "data": {
      "text/plain": [
       "0.84159881569208"
      ]
     },
     "execution_count": 19,
     "metadata": {},
     "output_type": "execute_result"
    }
   ],
   "source": [
    "LR.fit(X_train_std, y_train)\n",
    "LR.score(X_test_std, y_test)"
   ]
  },
  {
   "cell_type": "code",
   "execution_count": 20,
   "metadata": {},
   "outputs": [],
   "source": [
    "y_predict = LR.predict(X_test_std)\n"
   ]
  },
  {
   "cell_type": "code",
   "execution_count": 21,
   "metadata": {},
   "outputs": [
    {
     "data": {
      "text/plain": [
       "array([0, 1, 0, ..., 0, 1, 1])"
      ]
     },
     "execution_count": 21,
     "metadata": {},
     "output_type": "execute_result"
    }
   ],
   "source": [
    "y_predict"
   ]
  },
  {
   "cell_type": "code",
   "execution_count": 22,
   "metadata": {},
   "outputs": [
    {
     "data": {
      "text/plain": [
       "array([[ 683,  460],\n",
       "       [ 182, 2728]])"
      ]
     },
     "execution_count": 22,
     "metadata": {},
     "output_type": "execute_result"
    }
   ],
   "source": [
    "from sklearn.metrics import confusion_matrix\n",
    "\n",
    "confusion_matrix(y_test, y_predict)"
   ]
  },
  {
   "cell_type": "code",
   "execution_count": 23,
   "metadata": {},
   "outputs": [
    {
     "data": {
      "image/png": "[encoded data removed]",
      "text/plain": [
       "<Figure size 432x288 with 1 Axes>"
      ]
     },
     "metadata": {
      "needs_background": "light"
     },
     "output_type": "display_data"
    }
   ],
   "source": [
    "# code taken from heer http://benalexkeen.com/scoring-classifier-models-using-scikit-learn/\n",
    "from sklearn.metrics import roc_curve, auc\n",
    "import matplotlib.pyplot as plt\n",
    "plt.style.use('ggplot')\n",
    "%matplotlib inline\n",
    "\n",
    "y_predict_probabilities = LR.predict_proba(X_test_std)[:,1]\n",
    "\n",
    "fpr, tpr, _ = roc_curve(y_test, y_predict_probabilities)\n",
    "roc_auc = auc(fpr, tpr)\n",
    "\n",
    "plt.figure()\n",
    "plt.plot(fpr, tpr, color='darkorange',\n",
    "         lw=2, label='ROC curve (area = %0.2f)' % roc_auc)\n",
    "plt.plot([0, 1], [0, 1], color='navy', lw=2, linestyle='--')\n",
    "plt.xlim([0.0, 1.0])\n",
    "plt.ylim([0.0, 1.05])\n",
    "plt.xlabel('False Positive Rate')\n",
    "plt.ylabel('True Positive Rate')\n",
    "plt.title('ROC Curve')\n",
    "plt.legend(loc=\"lower right\")\n",
    "plt.show()"
   ]
  },
  {
   "cell_type": "code",
   "execution_count": null,
   "metadata": {},
   "outputs": [],
   "source": []
  }
 ],
 "metadata": {
  "kernelspec": {
   "display_name": "Python 3",
   "language": "python",
   "name": "python3"
  },
  "language_info": {
   "codemirror_mode": {
    "name": "ipython",
    "version": 3
   },
   "file_extension": ".py",
   "mimetype": "text/x-python",
   "name": "python",
   "nbconvert_exporter": "python",
   "pygments_lexer": "ipython3",
   "version": "3.6.4"
  }
 },
 "nbformat": 4,
 "nbformat_minor": 2
}
