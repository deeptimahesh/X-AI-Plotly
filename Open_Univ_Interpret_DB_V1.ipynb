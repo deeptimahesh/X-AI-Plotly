{
 "cells": [
  {
   "cell_type": "markdown",
   "metadata": {},
   "source": [
    "# Setup a classification experiment"
   ]
  },
  {
   "cell_type": "code",
   "execution_count": 1,
   "metadata": {},
   "outputs": [],
   "source": [
    "import pandas as pd\n",
    "from sklearn.model_selection import train_test_split\n",
    "\n"
   ]
  },
  {
   "cell_type": "code",
   "execution_count": 2,
   "metadata": {},
   "outputs": [
    {
     "data": {
      "text/html": [
       "<div>\n",
       "<style scoped>\n",
       "    .dataframe tbody tr th:only-of-type {\n",
       "        vertical-align: middle;\n",
       "    }\n",
       "\n",
       "    .dataframe tbody tr th {\n",
       "        vertical-align: top;\n",
       "    }\n",
       "\n",
       "    .dataframe thead th {\n",
       "        text-align: right;\n",
       "    }\n",
       "</style>\n",
       "<table border=\"1\" class=\"dataframe\">\n",
       "  <thead>\n",
       "    <tr style=\"text-align: right;\">\n",
       "      <th></th>\n",
       "      <th>id_student</th>\n",
       "      <th>code_module</th>\n",
       "      <th>code_presentation</th>\n",
       "      <th>gender</th>\n",
       "      <th>region</th>\n",
       "      <th>highest_education</th>\n",
       "      <th>imd_band</th>\n",
       "      <th>age_band</th>\n",
       "      <th>num_of_prev_attempts</th>\n",
       "      <th>studied_credits</th>\n",
       "      <th>...</th>\n",
       "      <th>quiz</th>\n",
       "      <th>repeatactivity</th>\n",
       "      <th>resource</th>\n",
       "      <th>sharedsubpage</th>\n",
       "      <th>subpage</th>\n",
       "      <th>url</th>\n",
       "      <th>sum_click</th>\n",
       "      <th>days_interacted</th>\n",
       "      <th>daily_click</th>\n",
       "      <th>final_result</th>\n",
       "    </tr>\n",
       "  </thead>\n",
       "  <tbody>\n",
       "    <tr>\n",
       "      <th>0</th>\n",
       "      <td>11391</td>\n",
       "      <td>AAA</td>\n",
       "      <td>2013J</td>\n",
       "      <td>M</td>\n",
       "      <td>East Anglian Region</td>\n",
       "      <td>HE Qualification</td>\n",
       "      <td>10.0</td>\n",
       "      <td>55&lt;=</td>\n",
       "      <td>0</td>\n",
       "      <td>240</td>\n",
       "      <td>...</td>\n",
       "      <td>0.0</td>\n",
       "      <td>0.0</td>\n",
       "      <td>13.0</td>\n",
       "      <td>0.0</td>\n",
       "      <td>32.0</td>\n",
       "      <td>5.0</td>\n",
       "      <td>934</td>\n",
       "      <td>40</td>\n",
       "      <td>23.350000</td>\n",
       "      <td>Pass</td>\n",
       "    </tr>\n",
       "    <tr>\n",
       "      <th>1</th>\n",
       "      <td>28400</td>\n",
       "      <td>AAA</td>\n",
       "      <td>2013J</td>\n",
       "      <td>F</td>\n",
       "      <td>Scotland</td>\n",
       "      <td>HE Qualification</td>\n",
       "      <td>3.0</td>\n",
       "      <td>35-55</td>\n",
       "      <td>0</td>\n",
       "      <td>60</td>\n",
       "      <td>...</td>\n",
       "      <td>0.0</td>\n",
       "      <td>0.0</td>\n",
       "      <td>12.0</td>\n",
       "      <td>0.0</td>\n",
       "      <td>87.0</td>\n",
       "      <td>48.0</td>\n",
       "      <td>1435</td>\n",
       "      <td>80</td>\n",
       "      <td>17.937500</td>\n",
       "      <td>Pass</td>\n",
       "    </tr>\n",
       "    <tr>\n",
       "      <th>2</th>\n",
       "      <td>31604</td>\n",
       "      <td>AAA</td>\n",
       "      <td>2013J</td>\n",
       "      <td>F</td>\n",
       "      <td>South East Region</td>\n",
       "      <td>A Level or Equivalent</td>\n",
       "      <td>6.0</td>\n",
       "      <td>35-55</td>\n",
       "      <td>0</td>\n",
       "      <td>60</td>\n",
       "      <td>...</td>\n",
       "      <td>0.0</td>\n",
       "      <td>0.0</td>\n",
       "      <td>19.0</td>\n",
       "      <td>0.0</td>\n",
       "      <td>144.0</td>\n",
       "      <td>90.0</td>\n",
       "      <td>2158</td>\n",
       "      <td>123</td>\n",
       "      <td>17.544715</td>\n",
       "      <td>Pass</td>\n",
       "    </tr>\n",
       "    <tr>\n",
       "      <th>3</th>\n",
       "      <td>32885</td>\n",
       "      <td>AAA</td>\n",
       "      <td>2013J</td>\n",
       "      <td>F</td>\n",
       "      <td>West Midlands Region</td>\n",
       "      <td>Lower Than A Level</td>\n",
       "      <td>6.0</td>\n",
       "      <td>0-35</td>\n",
       "      <td>0</td>\n",
       "      <td>60</td>\n",
       "      <td>...</td>\n",
       "      <td>0.0</td>\n",
       "      <td>0.0</td>\n",
       "      <td>45.0</td>\n",
       "      <td>0.0</td>\n",
       "      <td>79.0</td>\n",
       "      <td>14.0</td>\n",
       "      <td>1034</td>\n",
       "      <td>70</td>\n",
       "      <td>14.771429</td>\n",
       "      <td>Pass</td>\n",
       "    </tr>\n",
       "    <tr>\n",
       "      <th>4</th>\n",
       "      <td>38053</td>\n",
       "      <td>AAA</td>\n",
       "      <td>2013J</td>\n",
       "      <td>M</td>\n",
       "      <td>Wales</td>\n",
       "      <td>A Level or Equivalent</td>\n",
       "      <td>9.0</td>\n",
       "      <td>35-55</td>\n",
       "      <td>0</td>\n",
       "      <td>60</td>\n",
       "      <td>...</td>\n",
       "      <td>0.0</td>\n",
       "      <td>0.0</td>\n",
       "      <td>11.0</td>\n",
       "      <td>0.0</td>\n",
       "      <td>91.0</td>\n",
       "      <td>45.0</td>\n",
       "      <td>2445</td>\n",
       "      <td>143</td>\n",
       "      <td>17.097902</td>\n",
       "      <td>Pass</td>\n",
       "    </tr>\n",
       "  </tbody>\n",
       "</table>\n",
       "<p>5 rows × 44 columns</p>\n",
       "</div>"
      ],
      "text/plain": [
       "   id_student code_module code_presentation gender                region  \\\n",
       "0       11391         AAA             2013J      M   East Anglian Region   \n",
       "1       28400         AAA             2013J      F              Scotland   \n",
       "2       31604         AAA             2013J      F     South East Region   \n",
       "3       32885         AAA             2013J      F  West Midlands Region   \n",
       "4       38053         AAA             2013J      M                 Wales   \n",
       "\n",
       "       highest_education  imd_band age_band  num_of_prev_attempts  \\\n",
       "0       HE Qualification      10.0     55<=                     0   \n",
       "1       HE Qualification       3.0    35-55                     0   \n",
       "2  A Level or Equivalent       6.0    35-55                     0   \n",
       "3     Lower Than A Level       6.0     0-35                     0   \n",
       "4  A Level or Equivalent       9.0    35-55                     0   \n",
       "\n",
       "   studied_credits  ... quiz  repeatactivity  resource  sharedsubpage  \\\n",
       "0              240  ...  0.0             0.0      13.0            0.0   \n",
       "1               60  ...  0.0             0.0      12.0            0.0   \n",
       "2               60  ...  0.0             0.0      19.0            0.0   \n",
       "3               60  ...  0.0             0.0      45.0            0.0   \n",
       "4               60  ...  0.0             0.0      11.0            0.0   \n",
       "\n",
       "   subpage   url  sum_click  days_interacted  daily_click final_result  \n",
       "0     32.0   5.0        934               40    23.350000         Pass  \n",
       "1     87.0  48.0       1435               80    17.937500         Pass  \n",
       "2    144.0  90.0       2158              123    17.544715         Pass  \n",
       "3     79.0  14.0       1034               70    14.771429         Pass  \n",
       "4     91.0  45.0       2445              143    17.097902         Pass  \n",
       "\n",
       "[5 rows x 44 columns]"
      ]
     },
     "execution_count": 2,
     "metadata": {},
     "output_type": "execute_result"
    }
   ],
   "source": [
    "df = pd.read_csv(\"Open_Univ_Data_Final_merged.csv\")\n",
    "df.head()"
   ]
  },
  {
   "cell_type": "code",
   "execution_count": 3,
   "metadata": {},
   "outputs": [
    {
     "data": {
      "text/plain": [
       "Pass           12356\n",
       "Fail            5740\n",
       "Withdrawn       4673\n",
       "Distinction     3024\n",
       "Name: final_result, dtype: int64"
      ]
     },
     "execution_count": 3,
     "metadata": {},
     "output_type": "execute_result"
    }
   ],
   "source": [
    "df['final_result'].value_counts()"
   ]
  },
  {
   "cell_type": "code",
   "execution_count": 4,
   "metadata": {},
   "outputs": [],
   "source": [
    "df.drop(df[df.final_result == 'Withdrawn'].index, inplace=True)"
   ]
  },
  {
   "cell_type": "code",
   "execution_count": 5,
   "metadata": {},
   "outputs": [
    {
     "data": {
      "text/plain": [
       "Pass           12356\n",
       "Fail            5740\n",
       "Distinction     3024\n",
       "Name: final_result, dtype: int64"
      ]
     },
     "execution_count": 5,
     "metadata": {},
     "output_type": "execute_result"
    }
   ],
   "source": [
    "df['final_result'].value_counts()"
   ]
  },
  {
   "cell_type": "code",
   "execution_count": 6,
   "metadata": {},
   "outputs": [
    {
     "data": {
      "text/plain": [
       "Pass    15380\n",
       "Fail     5740\n",
       "Name: final_result, dtype: int64"
      ]
     },
     "execution_count": 6,
     "metadata": {},
     "output_type": "execute_result"
    }
   ],
   "source": [
    "df = df.replace(to_replace =\"Distinction\", value =\"Pass\")\n",
    "df['final_result'].value_counts()"
   ]
  },
  {
   "cell_type": "code",
   "execution_count": 7,
   "metadata": {},
   "outputs": [],
   "source": [
    "#df.drop(df[df.final_result == 'Distinction'].index, inplace=True)\n",
    "#df['final_result'].value_counts()"
   ]
  },
  {
   "cell_type": "code",
   "execution_count": 8,
   "metadata": {},
   "outputs": [
    {
     "data": {
      "text/plain": [
       "4.0     2287\n",
       "3.0     2147\n",
       "6.0     2112\n",
       "2.0     2100\n",
       "5.0     2077\n",
       "8.0     1990\n",
       "7.0     1946\n",
       "9.0     1905\n",
       "1.0     1888\n",
       "10.0    1810\n",
       "Name: imd_band, dtype: int64"
      ]
     },
     "execution_count": 8,
     "metadata": {},
     "output_type": "execute_result"
    }
   ],
   "source": [
    "df['imd_band'].value_counts()"
   ]
  },
  {
   "cell_type": "code",
   "execution_count": 9,
   "metadata": {},
   "outputs": [
    {
     "name": "stdout",
     "output_type": "stream",
     "text": [
      "<class 'pandas.core.frame.DataFrame'>\n",
      "Int64Index: 21120 entries, 0 to 25792\n",
      "Data columns (total 44 columns):\n",
      "id_student               21120 non-null int64\n",
      "code_module              21120 non-null object\n",
      "code_presentation        21120 non-null object\n",
      "gender                   21120 non-null object\n",
      "region                   21120 non-null object\n",
      "highest_education        21120 non-null object\n",
      "imd_band                 20262 non-null float64\n",
      "age_band                 21120 non-null object\n",
      "num_of_prev_attempts     21120 non-null int64\n",
      "studied_credits          21120 non-null int64\n",
      "disability               21120 non-null object\n",
      "date_registration        21120 non-null float64\n",
      "date_unregistration      2 non-null float64\n",
      "date_registration_pos    21120 non-null float64\n",
      "registration_before      0 non-null float64\n",
      "mean_score               21117 non-null float64\n",
      "CMA_score                12862 non-null float64\n",
      "TMA_score                20611 non-null float64\n",
      "Exam_score               4957 non-null float64\n",
      "unique                   21120 non-null object\n",
      "dataplus                 21120 non-null float64\n",
      "dualpane                 21120 non-null float64\n",
      "externalquiz             21120 non-null float64\n",
      "folder                   21120 non-null float64\n",
      "forumng                  21120 non-null float64\n",
      "glossary                 21120 non-null float64\n",
      "homepage                 21120 non-null float64\n",
      "htmlactivity             21120 non-null float64\n",
      "oucollaborate            21120 non-null float64\n",
      "oucontent                21120 non-null float64\n",
      "ouelluminate             21120 non-null float64\n",
      "ouwiki                   21120 non-null float64\n",
      "page                     21120 non-null float64\n",
      "questionnaire            21120 non-null float64\n",
      "quiz                     21120 non-null float64\n",
      "repeatactivity           21120 non-null float64\n",
      "resource                 21120 non-null float64\n",
      "sharedsubpage            21120 non-null float64\n",
      "subpage                  21120 non-null float64\n",
      "url                      21120 non-null float64\n",
      "sum_click                21120 non-null int64\n",
      "days_interacted          21120 non-null int64\n",
      "daily_click              21120 non-null float64\n",
      "final_result             21120 non-null object\n",
      "dtypes: float64(30), int64(5), object(9)\n",
      "memory usage: 7.3+ MB\n"
     ]
    }
   ],
   "source": [
    "df.info()"
   ]
  },
  {
   "cell_type": "code",
   "execution_count": 10,
   "metadata": {},
   "outputs": [
    {
     "data": {
      "text/plain": [
       "id_student                   0\n",
       "code_module                  0\n",
       "code_presentation            0\n",
       "gender                       0\n",
       "region                       0\n",
       "highest_education            0\n",
       "imd_band                   858\n",
       "age_band                     0\n",
       "num_of_prev_attempts         0\n",
       "studied_credits              0\n",
       "disability                   0\n",
       "date_registration            0\n",
       "date_unregistration      21118\n",
       "date_registration_pos        0\n",
       "registration_before      21120\n",
       "mean_score                   3\n",
       "CMA_score                 8258\n",
       "TMA_score                  509\n",
       "Exam_score               16163\n",
       "unique                       0\n",
       "dataplus                     0\n",
       "dualpane                     0\n",
       "externalquiz                 0\n",
       "folder                       0\n",
       "forumng                      0\n",
       "glossary                     0\n",
       "homepage                     0\n",
       "htmlactivity                 0\n",
       "oucollaborate                0\n",
       "oucontent                    0\n",
       "ouelluminate                 0\n",
       "ouwiki                       0\n",
       "page                         0\n",
       "questionnaire                0\n",
       "quiz                         0\n",
       "repeatactivity               0\n",
       "resource                     0\n",
       "sharedsubpage                0\n",
       "subpage                      0\n",
       "url                          0\n",
       "sum_click                    0\n",
       "days_interacted              0\n",
       "daily_click                  0\n",
       "final_result                 0\n",
       "dtype: int64"
      ]
     },
     "execution_count": 10,
     "metadata": {},
     "output_type": "execute_result"
    }
   ],
   "source": [
    "df.isnull().sum()"
   ]
  },
  {
   "cell_type": "code",
   "execution_count": 11,
   "metadata": {},
   "outputs": [
    {
     "data": {
      "text/plain": [
       "code_module              0\n",
       "code_presentation        0\n",
       "gender                   0\n",
       "region                   0\n",
       "highest_education        0\n",
       "imd_band                 0\n",
       "age_band                 0\n",
       "num_of_prev_attempts     0\n",
       "studied_credits          0\n",
       "disability               0\n",
       "date_registration        0\n",
       "date_registration_pos    0\n",
       "dataplus                 0\n",
       "dualpane                 0\n",
       "externalquiz             0\n",
       "folder                   0\n",
       "forumng                  0\n",
       "glossary                 0\n",
       "homepage                 0\n",
       "htmlactivity             0\n",
       "oucollaborate            0\n",
       "oucontent                0\n",
       "ouelluminate             0\n",
       "ouwiki                   0\n",
       "page                     0\n",
       "questionnaire            0\n",
       "quiz                     0\n",
       "repeatactivity           0\n",
       "resource                 0\n",
       "sharedsubpage            0\n",
       "subpage                  0\n",
       "url                      0\n",
       "sum_click                0\n",
       "days_interacted          0\n",
       "daily_click              0\n",
       "final_result             0\n",
       "dtype: int64"
      ]
     },
     "execution_count": 11,
     "metadata": {},
     "output_type": "execute_result"
    }
   ],
   "source": [
    "df.drop(columns=['date_unregistration','id_student', 'Exam_score','TMA_score','CMA_score','mean_score','registration_before','unique' ], inplace=True)\n",
    "df = df.dropna()\n",
    "df.isnull().sum()"
   ]
  },
  {
   "cell_type": "code",
   "execution_count": 12,
   "metadata": {},
   "outputs": [],
   "source": [
    "#df1 = df.select_dtypes(include=['int64'])\n",
    "\n",
    "#df1.head()"
   ]
  },
  {
   "cell_type": "code",
   "execution_count": 13,
   "metadata": {},
   "outputs": [
    {
     "data": {
      "text/html": [
       "<div>\n",
       "<style scoped>\n",
       "    .dataframe tbody tr th:only-of-type {\n",
       "        vertical-align: middle;\n",
       "    }\n",
       "\n",
       "    .dataframe tbody tr th {\n",
       "        vertical-align: top;\n",
       "    }\n",
       "\n",
       "    .dataframe thead th {\n",
       "        text-align: right;\n",
       "    }\n",
       "</style>\n",
       "<table border=\"1\" class=\"dataframe\">\n",
       "  <thead>\n",
       "    <tr style=\"text-align: right;\">\n",
       "      <th></th>\n",
       "      <th>code_module</th>\n",
       "      <th>code_presentation</th>\n",
       "      <th>gender</th>\n",
       "      <th>region</th>\n",
       "      <th>highest_education</th>\n",
       "      <th>imd_band</th>\n",
       "      <th>age_band</th>\n",
       "      <th>num_of_prev_attempts</th>\n",
       "      <th>studied_credits</th>\n",
       "      <th>disability</th>\n",
       "      <th>...</th>\n",
       "      <th>quiz</th>\n",
       "      <th>repeatactivity</th>\n",
       "      <th>resource</th>\n",
       "      <th>sharedsubpage</th>\n",
       "      <th>subpage</th>\n",
       "      <th>url</th>\n",
       "      <th>sum_click</th>\n",
       "      <th>days_interacted</th>\n",
       "      <th>daily_click</th>\n",
       "      <th>final_result</th>\n",
       "    </tr>\n",
       "  </thead>\n",
       "  <tbody>\n",
       "    <tr>\n",
       "      <th>0</th>\n",
       "      <td>AAA</td>\n",
       "      <td>2013J</td>\n",
       "      <td>M</td>\n",
       "      <td>East Anglian Region</td>\n",
       "      <td>HE Qualification</td>\n",
       "      <td>10.0</td>\n",
       "      <td>55&lt;=</td>\n",
       "      <td>0</td>\n",
       "      <td>240</td>\n",
       "      <td>N</td>\n",
       "      <td>...</td>\n",
       "      <td>0.0</td>\n",
       "      <td>0.0</td>\n",
       "      <td>13.0</td>\n",
       "      <td>0.0</td>\n",
       "      <td>32.0</td>\n",
       "      <td>5.0</td>\n",
       "      <td>934</td>\n",
       "      <td>40</td>\n",
       "      <td>23.350000</td>\n",
       "      <td>Pass</td>\n",
       "    </tr>\n",
       "    <tr>\n",
       "      <th>1</th>\n",
       "      <td>AAA</td>\n",
       "      <td>2013J</td>\n",
       "      <td>F</td>\n",
       "      <td>Scotland</td>\n",
       "      <td>HE Qualification</td>\n",
       "      <td>3.0</td>\n",
       "      <td>35-55</td>\n",
       "      <td>0</td>\n",
       "      <td>60</td>\n",
       "      <td>N</td>\n",
       "      <td>...</td>\n",
       "      <td>0.0</td>\n",
       "      <td>0.0</td>\n",
       "      <td>12.0</td>\n",
       "      <td>0.0</td>\n",
       "      <td>87.0</td>\n",
       "      <td>48.0</td>\n",
       "      <td>1435</td>\n",
       "      <td>80</td>\n",
       "      <td>17.937500</td>\n",
       "      <td>Pass</td>\n",
       "    </tr>\n",
       "    <tr>\n",
       "      <th>2</th>\n",
       "      <td>AAA</td>\n",
       "      <td>2013J</td>\n",
       "      <td>F</td>\n",
       "      <td>South East Region</td>\n",
       "      <td>A Level or Equivalent</td>\n",
       "      <td>6.0</td>\n",
       "      <td>35-55</td>\n",
       "      <td>0</td>\n",
       "      <td>60</td>\n",
       "      <td>N</td>\n",
       "      <td>...</td>\n",
       "      <td>0.0</td>\n",
       "      <td>0.0</td>\n",
       "      <td>19.0</td>\n",
       "      <td>0.0</td>\n",
       "      <td>144.0</td>\n",
       "      <td>90.0</td>\n",
       "      <td>2158</td>\n",
       "      <td>123</td>\n",
       "      <td>17.544715</td>\n",
       "      <td>Pass</td>\n",
       "    </tr>\n",
       "    <tr>\n",
       "      <th>3</th>\n",
       "      <td>AAA</td>\n",
       "      <td>2013J</td>\n",
       "      <td>F</td>\n",
       "      <td>West Midlands Region</td>\n",
       "      <td>Lower Than A Level</td>\n",
       "      <td>6.0</td>\n",
       "      <td>0-35</td>\n",
       "      <td>0</td>\n",
       "      <td>60</td>\n",
       "      <td>N</td>\n",
       "      <td>...</td>\n",
       "      <td>0.0</td>\n",
       "      <td>0.0</td>\n",
       "      <td>45.0</td>\n",
       "      <td>0.0</td>\n",
       "      <td>79.0</td>\n",
       "      <td>14.0</td>\n",
       "      <td>1034</td>\n",
       "      <td>70</td>\n",
       "      <td>14.771429</td>\n",
       "      <td>Pass</td>\n",
       "    </tr>\n",
       "    <tr>\n",
       "      <th>4</th>\n",
       "      <td>AAA</td>\n",
       "      <td>2013J</td>\n",
       "      <td>M</td>\n",
       "      <td>Wales</td>\n",
       "      <td>A Level or Equivalent</td>\n",
       "      <td>9.0</td>\n",
       "      <td>35-55</td>\n",
       "      <td>0</td>\n",
       "      <td>60</td>\n",
       "      <td>N</td>\n",
       "      <td>...</td>\n",
       "      <td>0.0</td>\n",
       "      <td>0.0</td>\n",
       "      <td>11.0</td>\n",
       "      <td>0.0</td>\n",
       "      <td>91.0</td>\n",
       "      <td>45.0</td>\n",
       "      <td>2445</td>\n",
       "      <td>143</td>\n",
       "      <td>17.097902</td>\n",
       "      <td>Pass</td>\n",
       "    </tr>\n",
       "  </tbody>\n",
       "</table>\n",
       "<p>5 rows × 36 columns</p>\n",
       "</div>"
      ],
      "text/plain": [
       "  code_module code_presentation gender                region  \\\n",
       "0         AAA             2013J      M   East Anglian Region   \n",
       "1         AAA             2013J      F              Scotland   \n",
       "2         AAA             2013J      F     South East Region   \n",
       "3         AAA             2013J      F  West Midlands Region   \n",
       "4         AAA             2013J      M                 Wales   \n",
       "\n",
       "       highest_education  imd_band age_band  num_of_prev_attempts  \\\n",
       "0       HE Qualification      10.0     55<=                     0   \n",
       "1       HE Qualification       3.0    35-55                     0   \n",
       "2  A Level or Equivalent       6.0    35-55                     0   \n",
       "3     Lower Than A Level       6.0     0-35                     0   \n",
       "4  A Level or Equivalent       9.0    35-55                     0   \n",
       "\n",
       "   studied_credits disability  ...  quiz  repeatactivity  resource  \\\n",
       "0              240          N  ...   0.0             0.0      13.0   \n",
       "1               60          N  ...   0.0             0.0      12.0   \n",
       "2               60          N  ...   0.0             0.0      19.0   \n",
       "3               60          N  ...   0.0             0.0      45.0   \n",
       "4               60          N  ...   0.0             0.0      11.0   \n",
       "\n",
       "   sharedsubpage  subpage   url  sum_click  days_interacted  daily_click  \\\n",
       "0            0.0     32.0   5.0        934               40    23.350000   \n",
       "1            0.0     87.0  48.0       1435               80    17.937500   \n",
       "2            0.0    144.0  90.0       2158              123    17.544715   \n",
       "3            0.0     79.0  14.0       1034               70    14.771429   \n",
       "4            0.0     91.0  45.0       2445              143    17.097902   \n",
       "\n",
       "   final_result  \n",
       "0          Pass  \n",
       "1          Pass  \n",
       "2          Pass  \n",
       "3          Pass  \n",
       "4          Pass  \n",
       "\n",
       "[5 rows x 36 columns]"
      ]
     },
     "execution_count": 13,
     "metadata": {},
     "output_type": "execute_result"
    }
   ],
   "source": [
    "df.head()"
   ]
  },
  {
   "cell_type": "code",
   "execution_count": 14,
   "metadata": {},
   "outputs": [
    {
     "data": {
      "text/plain": [
       "Index(['code_module', 'code_presentation', 'gender', 'region',\n",
       "       'highest_education', 'imd_band', 'age_band', 'num_of_prev_attempts',\n",
       "       'studied_credits', 'disability', 'date_registration',\n",
       "       'date_registration_pos', 'dataplus', 'dualpane', 'externalquiz',\n",
       "       'folder', 'forumng', 'glossary', 'homepage', 'htmlactivity',\n",
       "       'oucollaborate', 'oucontent', 'ouelluminate', 'ouwiki', 'page',\n",
       "       'questionnaire', 'quiz', 'repeatactivity', 'resource', 'sharedsubpage',\n",
       "       'subpage', 'url', 'sum_click', 'days_interacted', 'daily_click'],\n",
       "      dtype='object')"
      ]
     },
     "execution_count": 14,
     "metadata": {},
     "output_type": "execute_result"
    }
   ],
   "source": [
    "\n",
    "train_cols = df.columns[0:-1]\n",
    "train_cols "
   ]
  },
  {
   "cell_type": "code",
   "execution_count": 15,
   "metadata": {},
   "outputs": [
    {
     "data": {
      "text/plain": [
       "'final_result'"
      ]
     },
     "execution_count": 15,
     "metadata": {},
     "output_type": "execute_result"
    }
   ],
   "source": [
    "label = df.columns[-1]\n",
    "label"
   ]
  },
  {
   "cell_type": "code",
   "execution_count": 16,
   "metadata": {},
   "outputs": [],
   "source": [
    "X = df[train_cols]\n",
    "y = df[label].apply(lambda x: 1 if x == \"Pass\" else 0) #Turning response into 0 and 1\n",
    "\n",
    "seed = 1\n",
    "X_train, X_test, y_train, y_test = train_test_split(X, y, test_size=0.20, random_state=seed)"
   ]
  },
  {
   "cell_type": "code",
   "execution_count": 17,
   "metadata": {},
   "outputs": [
    {
     "data": {
      "text/plain": [
       "25347    1\n",
       "25071    1\n",
       "4855     1\n",
       "455      0\n",
       "5188     1\n",
       "Name: final_result, dtype: int64"
      ]
     },
     "execution_count": 17,
     "metadata": {},
     "output_type": "execute_result"
    }
   ],
   "source": [
    "y_train.head()"
   ]
  },
  {
   "cell_type": "markdown",
   "metadata": {},
   "source": [
    "# Explore the dataset"
   ]
  },
  {
   "cell_type": "code",
   "execution_count": 18,
   "metadata": {
    "scrolled": true
   },
   "outputs": [],
   "source": [
    "from interpret import show\n",
    "from interpret.data import Marginal, response, ClassHistogram\n",
    "\n",
    "hist = ClassHistogram().explain_data(X_train, y_train, name = 'Train Data')\n",
    "\n",
    "# show(hist)\n"
   ]
  },
  {
   "cell_type": "markdown",
   "metadata": {},
   "source": [
    "# Train the Explainable Boosting Machine (EBM)"
   ]
  },
  {
   "cell_type": "code",
   "execution_count": 19,
   "metadata": {},
   "outputs": [
    {
     "name": "stderr",
     "output_type": "stream",
     "text": [
      "/home/deepti/anaconda3/lib/python3.6/site-packages/sklearn/externals/six.py:31: DeprecationWarning: The module is deprecated in version 0.21 and will be removed in version 0.23 since we've dropped support for Python 2.7. Please rely on the official version of six (https://pypi.org/project/six/).\n",
      "  \"(https://pypi.org/project/six/).\", DeprecationWarning)\n"
     ]
    },
    {
     "data": {
      "text/plain": [
       "ExplainableBoostingClassifier(data_n_episodes=2000,\n",
       "                              early_stopping_run_length=50,\n",
       "                              early_stopping_tolerance=1e-05,\n",
       "                              feature_names=['code_module', 'code_presentation',\n",
       "                                             'gender', 'region',\n",
       "                                             'highest_education', 'imd_band',\n",
       "                                             'age_band', 'num_of_prev_attempts',\n",
       "                                             'studied_credits', 'disability',\n",
       "                                             'date_registration',\n",
       "                                             'date_registration_pos',\n",
       "                                             'dataplus', 'dualpane',\n",
       "                                             'externalq...\n",
       "                                             'continuous', 'continuous',\n",
       "                                             'continuous', 'continuous',\n",
       "                                             'continuous', 'continuous',\n",
       "                                             'continuous', 'continuous',\n",
       "                                             'continuous', 'categorical',\n",
       "                                             'continuous', 'continuous', ...],\n",
       "                              holdout_size=0.15, holdout_split=0.15,\n",
       "                              interactions=4, learning_rate=0.01,\n",
       "                              max_tree_splits=4, min_cases_for_splits=2,\n",
       "                              n_estimators=16, n_jobs=4, random_state=1,\n",
       "                              schema=None, scoring=None,\n",
       "                              training_step_episodes=1)"
      ]
     },
     "execution_count": 19,
     "metadata": {},
     "output_type": "execute_result"
    }
   ],
   "source": [
    "from interpret.glassbox import ExplainableBoostingClassifier, LogisticRegression, ClassificationTree, DecisionListClassifier\n",
    "\n",
    "ebm = ExplainableBoostingClassifier(interactions= 4, n_jobs=4, max_tree_splits= 4, min_cases_for_splits= 2,   random_state=seed)\n",
    "ebm.fit(X_train, y_train)   #Works on dataframes and numpy arrays"
   ]
  },
  {
   "cell_type": "markdown",
   "metadata": {},
   "source": [
    "# Global Explanations: What the model learned overall"
   ]
  },
  {
   "cell_type": "code",
   "execution_count": 20,
   "metadata": {
    "scrolled": true
   },
   "outputs": [
    {
     "data": {
      "text/html": [
       "<!-- http://127.0.0.1:7679/140503245290128/ -->\n",
       "<iframe src=\"http://127.0.0.1:7679/140503245290128/\" width=100% height=800 frameBorder=\"0\"></iframe>"
      ]
     },
     "metadata": {},
     "output_type": "display_data"
    }
   ],
   "source": [
    "ebm_global = ebm.explain_global(name='EBM')\n",
    "show(ebm_global)"
   ]
  },
  {
   "cell_type": "markdown",
   "metadata": {},
   "source": [
    "# Local Explanations: How an individual prediction was made"
   ]
  },
  {
   "cell_type": "code",
   "execution_count": 21,
   "metadata": {
    "scrolled": true
   },
   "outputs": [
    {
     "data": {
      "text/html": [
       "<!-- http://127.0.0.1:7679/140503018658672/ -->\n",
       "<iframe src=\"http://127.0.0.1:7679/140503018658672/\" width=100% height=800 frameBorder=\"0\"></iframe>"
      ]
     },
     "metadata": {},
     "output_type": "display_data"
    }
   ],
   "source": [
    "ebm_local = ebm.explain_local(X_test[:50], y_test[:50], name='EBM')\n",
    "show(ebm_local)"
   ]
  },
  {
   "cell_type": "markdown",
   "metadata": {},
   "source": [
    "# Evaluate EBM performance"
   ]
  },
  {
   "cell_type": "code",
   "execution_count": 22,
   "metadata": {
    "scrolled": false
   },
   "outputs": [
    {
     "data": {
      "text/html": [
       "<!-- http://127.0.0.1:7679/140503047814056/ -->\n",
       "<iframe src=\"http://127.0.0.1:7679/140503047814056/\" width=100% height=800 frameBorder=\"0\"></iframe>"
      ]
     },
     "metadata": {},
     "output_type": "display_data"
    }
   ],
   "source": [
    "from interpret.perf import ROC\n",
    "\n",
    "ebm_perf = ROC(ebm.predict_proba).explain_perf(X_test, y_test, name='EBM')\n",
    "show(ebm_perf)"
   ]
  },
  {
   "cell_type": "code",
   "execution_count": 23,
   "metadata": {},
   "outputs": [
    {
     "data": {
      "text/plain": [
       "array([[0.94801617, 0.05198383],\n",
       "       [0.07745978, 0.92254022],\n",
       "       [0.26379089, 0.73620911],\n",
       "       ...,\n",
       "       [0.88320092, 0.11679908],\n",
       "       [0.1401195 , 0.8598805 ],\n",
       "       [0.27582641, 0.72417359]])"
      ]
     },
     "execution_count": 23,
     "metadata": {},
     "output_type": "execute_result"
    }
   ],
   "source": [
    "prob_test = ebm.predict_proba(X_test)\n",
    "prob_test"
   ]
  },
  {
   "cell_type": "code",
   "execution_count": 24,
   "metadata": {},
   "outputs": [
    {
     "data": {
      "text/plain": [
       "array([0.07745978, 0.92254022])"
      ]
     },
     "execution_count": 24,
     "metadata": {},
     "output_type": "execute_result"
    }
   ],
   "source": [
    "prob_test[1]"
   ]
  },
  {
   "cell_type": "code",
   "execution_count": 25,
   "metadata": {},
   "outputs": [],
   "source": [
    "prob_data = prob_test"
   ]
  },
  {
   "cell_type": "code",
   "execution_count": 26,
   "metadata": {},
   "outputs": [
    {
     "data": {
      "text/plain": [
       "numpy.ndarray"
      ]
     },
     "execution_count": 26,
     "metadata": {},
     "output_type": "execute_result"
    }
   ],
   "source": [
    "type(prob_test)"
   ]
  },
  {
   "cell_type": "code",
   "execution_count": 27,
   "metadata": {},
   "outputs": [
    {
     "name": "stdout",
     "output_type": "stream",
     "text": [
      "          0         1\n",
      "0  0.948016  0.051984\n",
      "1  0.077460  0.922540\n",
      "2  0.263791  0.736209\n",
      "3  0.200861  0.799139\n",
      "4  0.476157  0.523843\n",
      "<class 'pandas.core.frame.DataFrame'>\n"
     ]
    }
   ],
   "source": [
    "from pandas import DataFrame\n",
    "prob_data = DataFrame.from_records(prob_data)\n",
    "print(prob_data.head())\n",
    "print (type(prob_data))"
   ]
  },
  {
   "cell_type": "code",
   "execution_count": 28,
   "metadata": {},
   "outputs": [
    {
     "data": {
      "text/html": [
       "<div>\n",
       "<style scoped>\n",
       "    .dataframe tbody tr th:only-of-type {\n",
       "        vertical-align: middle;\n",
       "    }\n",
       "\n",
       "    .dataframe tbody tr th {\n",
       "        vertical-align: top;\n",
       "    }\n",
       "\n",
       "    .dataframe thead th {\n",
       "        text-align: right;\n",
       "    }\n",
       "</style>\n",
       "<table border=\"1\" class=\"dataframe\">\n",
       "  <thead>\n",
       "    <tr style=\"text-align: right;\">\n",
       "      <th></th>\n",
       "      <th>0</th>\n",
       "      <th>1</th>\n",
       "    </tr>\n",
       "  </thead>\n",
       "  <tbody>\n",
       "    <tr>\n",
       "      <th>0</th>\n",
       "      <td>0.948</td>\n",
       "      <td>0.052</td>\n",
       "    </tr>\n",
       "    <tr>\n",
       "      <th>1</th>\n",
       "      <td>0.077</td>\n",
       "      <td>0.923</td>\n",
       "    </tr>\n",
       "    <tr>\n",
       "      <th>2</th>\n",
       "      <td>0.264</td>\n",
       "      <td>0.736</td>\n",
       "    </tr>\n",
       "    <tr>\n",
       "      <th>3</th>\n",
       "      <td>0.201</td>\n",
       "      <td>0.799</td>\n",
       "    </tr>\n",
       "    <tr>\n",
       "      <th>4</th>\n",
       "      <td>0.476</td>\n",
       "      <td>0.524</td>\n",
       "    </tr>\n",
       "  </tbody>\n",
       "</table>\n",
       "</div>"
      ],
      "text/plain": [
       "       0      1\n",
       "0  0.948  0.052\n",
       "1  0.077  0.923\n",
       "2  0.264  0.736\n",
       "3  0.201  0.799\n",
       "4  0.476  0.524"
      ]
     },
     "execution_count": 28,
     "metadata": {},
     "output_type": "execute_result"
    }
   ],
   "source": [
    "prob_data = prob_data.round(decimals=3)\n",
    "prob_data.head()"
   ]
  },
  {
   "cell_type": "code",
   "execution_count": 29,
   "metadata": {},
   "outputs": [
    {
     "data": {
      "text/html": [
       "<div>\n",
       "<style scoped>\n",
       "    .dataframe tbody tr th:only-of-type {\n",
       "        vertical-align: middle;\n",
       "    }\n",
       "\n",
       "    .dataframe tbody tr th {\n",
       "        vertical-align: top;\n",
       "    }\n",
       "\n",
       "    .dataframe thead th {\n",
       "        text-align: right;\n",
       "    }\n",
       "</style>\n",
       "<table border=\"1\" class=\"dataframe\">\n",
       "  <thead>\n",
       "    <tr style=\"text-align: right;\">\n",
       "      <th></th>\n",
       "      <th>Fail</th>\n",
       "      <th>Pass</th>\n",
       "    </tr>\n",
       "  </thead>\n",
       "  <tbody>\n",
       "    <tr>\n",
       "      <th>0</th>\n",
       "      <td>0.948</td>\n",
       "      <td>0.052</td>\n",
       "    </tr>\n",
       "    <tr>\n",
       "      <th>1</th>\n",
       "      <td>0.077</td>\n",
       "      <td>0.923</td>\n",
       "    </tr>\n",
       "    <tr>\n",
       "      <th>2</th>\n",
       "      <td>0.264</td>\n",
       "      <td>0.736</td>\n",
       "    </tr>\n",
       "    <tr>\n",
       "      <th>3</th>\n",
       "      <td>0.201</td>\n",
       "      <td>0.799</td>\n",
       "    </tr>\n",
       "    <tr>\n",
       "      <th>4</th>\n",
       "      <td>0.476</td>\n",
       "      <td>0.524</td>\n",
       "    </tr>\n",
       "  </tbody>\n",
       "</table>\n",
       "</div>"
      ],
      "text/plain": [
       "    Fail   Pass\n",
       "0  0.948  0.052\n",
       "1  0.077  0.923\n",
       "2  0.264  0.736\n",
       "3  0.201  0.799\n",
       "4  0.476  0.524"
      ]
     },
     "execution_count": 29,
     "metadata": {},
     "output_type": "execute_result"
    }
   ],
   "source": [
    "prob_data = prob_data.rename(columns={0:'Fail', 1:'Pass'})\n",
    "prob_data.head()"
   ]
  },
  {
   "cell_type": "code",
   "execution_count": 30,
   "metadata": {},
   "outputs": [],
   "source": [
    "prob_data.to_csv('TestData_probabilities.csv', index=False)"
   ]
  },
  {
   "cell_type": "markdown",
   "metadata": {},
   "source": [
    "## Let's test out a few other Explainable Models"
   ]
  },
  {
   "cell_type": "code",
   "execution_count": 31,
   "metadata": {
    "scrolled": true
   },
   "outputs": [
    {
     "name": "stderr",
     "output_type": "stream",
     "text": [
      "/home/deepti/anaconda3/lib/python3.6/site-packages/sklearn/linear_model/logistic.py:432: FutureWarning:\n",
      "\n",
      "Default solver will be changed to 'lbfgs' in 0.22. Specify a solver to silence this warning.\n",
      "\n"
     ]
    },
    {
     "data": {
      "text/plain": [
       "<interpret.glassbox.decisiontree.ClassificationTree at 0x7fc96a413b00>"
      ]
     },
     "execution_count": 31,
     "metadata": {},
     "output_type": "execute_result"
    }
   ],
   "source": [
    "from interpret.glassbox import LogisticRegression, ClassificationTree\n",
    "\n",
    "# We have to transform categorical variables to use Logistic Regression and Decision Tree\n",
    "X_enc = pd.get_dummies(X, prefix_sep='.')\n",
    "feature_names = list(X_enc.columns)\n",
    "X_train_enc, X_test_enc, y_train, y_test = train_test_split(X_enc, y, test_size=0.20, random_state=seed)\n",
    "\n",
    "lr = LogisticRegression(random_state=seed, feature_names=feature_names, penalty='l1')\n",
    "lr.fit(X_train_enc, y_train)\n",
    "\n",
    "tree = ClassificationTree()\n",
    "tree.fit(X_train_enc, y_train)"
   ]
  },
  {
   "cell_type": "markdown",
   "metadata": {},
   "source": [
    "## Compare performance using the Dashboard"
   ]
  },
  {
   "cell_type": "code",
   "execution_count": 32,
   "metadata": {
    "scrolled": false
   },
   "outputs": [
    {
     "data": {
      "text/html": [
       "<!-- http://127.0.0.1:7679/140503237021592/ -->\n",
       "<iframe src=\"http://127.0.0.1:7679/140503237021592/\" width=100% height=800 frameBorder=\"0\"></iframe>"
      ]
     },
     "metadata": {},
     "output_type": "display_data"
    },
    {
     "data": {
      "text/html": [
       "<!-- http://127.0.0.1:7679/140503237018120/ -->\n",
       "<iframe src=\"http://127.0.0.1:7679/140503237018120/\" width=100% height=800 frameBorder=\"0\"></iframe>"
      ]
     },
     "metadata": {},
     "output_type": "display_data"
    },
    {
     "data": {
      "text/html": [
       "<!-- http://127.0.0.1:7679/140503047814056/ -->\n",
       "<iframe src=\"http://127.0.0.1:7679/140503047814056/\" width=100% height=800 frameBorder=\"0\"></iframe>"
      ]
     },
     "metadata": {},
     "output_type": "display_data"
    }
   ],
   "source": [
    "lr_perf = ROC(lr.predict_proba).explain_perf(X_test_enc, y_test, name='Logistic Regression')\n",
    "tree_perf = ROC(tree.predict_proba).explain_perf(X_test_enc, y_test, name='Classification Tree')\n",
    "\n",
    "show(lr_perf)\n",
    "show(tree_perf)\n",
    "show(ebm_perf)"
   ]
  },
  {
   "cell_type": "markdown",
   "metadata": {},
   "source": [
    "## Glassbox: All of our models have global and local explanations"
   ]
  },
  {
   "cell_type": "code",
   "execution_count": 33,
   "metadata": {
    "scrolled": true
   },
   "outputs": [
    {
     "data": {
      "text/html": [
       "<!-- http://127.0.0.1:7679/140502696300048/ -->\n",
       "<iframe src=\"http://127.0.0.1:7679/140502696300048/\" width=100% height=800 frameBorder=\"0\"></iframe>"
      ]
     },
     "metadata": {},
     "output_type": "display_data"
    },
    {
     "data": {
      "text/html": [
       "<!-- http://127.0.0.1:7679/140502694604472/ -->\n",
       "<iframe src=\"http://127.0.0.1:7679/140502694604472/\" width=100% height=800 frameBorder=\"0\"></iframe>"
      ]
     },
     "metadata": {},
     "output_type": "display_data"
    },
    {
     "data": {
      "text/html": [
       "<!-- http://127.0.0.1:7679/140503245290128/ -->\n",
       "<iframe src=\"http://127.0.0.1:7679/140503245290128/\" width=100% height=800 frameBorder=\"0\"></iframe>"
      ]
     },
     "metadata": {},
     "output_type": "display_data"
    }
   ],
   "source": [
    "lr_global = lr.explain_global(name='LR')\n",
    "tree_global = tree.explain_global(name='Tree')\n",
    "\n",
    "show(lr_global)\n",
    "show(tree_global)\n",
    "show(ebm_global)"
   ]
  },
  {
   "cell_type": "markdown",
   "metadata": {},
   "source": [
    "## Dashboard: look at everything at once"
   ]
  },
  {
   "cell_type": "code",
   "execution_count": 34,
   "metadata": {},
   "outputs": [
    {
     "data": {
      "text/html": [
       "<!-- http://127.0.0.1:7679/140502693952456/ -->\n",
       "<a href=\"http://127.0.0.1:7679/140502693952456/\" target=\"_new\">Open in new window</a><iframe src=\"http://127.0.0.1:7679/140502693952456/\" width=100% height=800 frameBorder=\"0\"></iframe>"
      ]
     },
     "metadata": {},
     "output_type": "display_data"
    }
   ],
   "source": [
    "# Do everything in one shot with the InterpretML Dashboard by passing a list into show\n",
    "\n",
    "show([hist, lr_global, lr_perf, tree_global, tree_perf, ebm_global, ebm_perf, ebm_local], share_tables=True)"
   ]
  },
  {
   "cell_type": "code",
   "execution_count": null,
   "metadata": {},
   "outputs": [],
   "source": []
  }
 ],
 "metadata": {
  "kernelspec": {
   "display_name": "Python 3",
   "language": "python",
   "name": "python3"
  },
  "language_info": {
   "codemirror_mode": {
    "name": "ipython",
    "version": 3
   },
   "file_extension": ".py",
   "mimetype": "text/x-python",
   "name": "python",
   "nbconvert_exporter": "python",
   "pygments_lexer": "ipython3",
   "version": "3.6.4"
  }
 },
 "nbformat": 4,
 "nbformat_minor": 2
}
